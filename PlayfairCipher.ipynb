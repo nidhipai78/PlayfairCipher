{
  "nbformat": 4,
  "nbformat_minor": 0,
  "metadata": {
    "colab": {
      "provenance": [],
      "authorship_tag": "ABX9TyPl1PhSnev0jcvwP9L6LzI7",
      "include_colab_link": true
    },
    "kernelspec": {
      "name": "python3",
      "display_name": "Python 3"
    },
    "language_info": {
      "name": "python"
    }
  },
  "cells": [
    {
      "cell_type": "markdown",
      "metadata": {
        "id": "view-in-github",
        "colab_type": "text"
      },
      "source": [
        "<a href=\"https://colab.research.google.com/github/nidhipai78/PlayfairCipher/blob/main/PlayfairCipher.ipynb\" target=\"_parent\"><img src=\"https://colab.research.google.com/assets/colab-badge.svg\" alt=\"Open In Colab\"/></a>"
      ]
    },
    {
      "cell_type": "code",
      "execution_count": null,
      "metadata": {
        "id": "Ang_hB4z7-av"
      },
      "outputs": [],
      "source": [
        "#Playfair Cipher\n",
        "def create_playfair_matrix(key):\n",
        "    alphabet = \"ABCDEFGHIKLMNOPQRSTUVWXYZ\"\n",
        "    matrix = []\n",
        "    key = \"\".join(dict.fromkeys(key.upper().replace(\"J\", \"I\") + alphabet))\n",
        "    for i in range(0, 25, 5):\n",
        "        matrix.append(list(key[i:i+5]))\n",
        "    return matrix\n",
        "\n",
        "def find_position(matrix, char):\n",
        "    for row in range(5):\n",
        "        for col in range(5):\n",
        "            if matrix[row][col] == char:\n",
        "                return row, col\n",
        "\n",
        "def playfair_encrypt(plaintext, key):\n",
        "    matrix = create_playfair_matrix(key)\n",
        "    plaintext = plaintext.upper().replace(\"J\", \"I\").replace(\" \", \"\")\n",
        "    if len(plaintext) % 2 != 0:\n",
        "        plaintext += \"X\"\n",
        "\n",
        "    ciphertext = \"\"\n",
        "    for i in range(0, len(plaintext), 2):\n",
        "        a, b = plaintext[i], plaintext[i + 1]\n",
        "        row1, col1 = find_position(matrix, a)\n",
        "        row2, col2 = find_position(matrix, b)\n",
        "        if row1 == row2:\n",
        "            ciphertext += matrix[row1][(col1 + 1) % 5] + matrix[row2][(col2 + 1) % 5]\n",
        "        elif col1 == col2:\n",
        "            ciphertext += matrix[(row1 + 1) % 5][col1] + matrix[(row2 + 1) % 5][col2]\n",
        "        else:\n",
        "            ciphertext += matrix[row1][col2] + matrix[row2][col1]\n",
        "    return ciphertext\n",
        "\n",
        "\n",
        "plaintext = \"HELLO\"\n",
        "key = \"KEYWORD\"\n",
        "print(\"Encrypted:\", playfair_encrypt(plaintext, key))\n"
      ]
    }
  ]
}